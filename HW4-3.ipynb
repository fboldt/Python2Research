{
 "cells": [
  {
   "cell_type": "markdown",
   "metadata": {},
   "source": [
    "# Using Python for Research Homework: Week 4, Case Study 3\n",
    "\n",
    "Homophily is a property of networks.  Homophily occurs when nodes that are neighbors in a network also share a characteristic more often than nodes that are not network neighbors.  In this case study, we will investigate homophily of several characteristics of individuals connected in social networks in rural India."
   ]
  },
  {
   "cell_type": "markdown",
   "metadata": {},
   "source": [
    "### Exercise 1\n",
    "In Exercise 1, we will calculate the chance homophily for an arbitrary characteristic. Homophily is the proportion of edges in the network whose constituent nodes share that characteristic.\n",
    "\n",
    "How much homophily do we expect by chance? If characteristics are distributed completely randomly, the probability that two nodes \\(x\\) and \\(y\\) share characteristic \\(a\\) is the probability both nodes have characteristic \\(a\\) , which is the marginal probability of \\(a\\) squared. The total probability that nodes \\(x\\) and \\(y\\) share their characteristic is therefore the sum of the square of the marginal probabilities of each characteristic in the network.\n",
    "\n",
    "<strong>Instructions</strong>\n",
    "<ul><li>Create a function <code>marginal_prob</code> that takes a dictionary <code>chars</code> with personal IDs as keys and characteristics as values; it should return a dictionary with characteristics as keys and their marginal probability (frequency of occurence of a characteristic divided by the sum of frequencies of each characteristic) as values.</li>\n",
    "<li>Create a function <code>chance_homophily(chars)</code> that takes a dictionary <code>chars</code> defined as above and computes the chance homophily (homophily due to chance alone) for that characteristic.</li>\n",
    "<li>A sample of three peoples' favorite colors is given in <code>favorite_colors</code>. Use your function to compute the chance homophily in this group, and store it as <code>color_homophily</code>.</li>\n",
    "<li>Print <code>color_homophily</code>.</li></ul>"
   ]
  },
  {
   "cell_type": "code",
   "execution_count": 46,
   "metadata": {
    "tags": []
   },
   "outputs": [
    {
     "output_type": "stream",
     "name": "stdout",
     "text": "0.5555555555555556\n"
    }
   ],
   "source": [
    "from collections import Counter\n",
    "import numpy as np\n",
    "\n",
    "def marginal_prob(chars):\n",
    "    # Enter code here!\n",
    "    marg_prob = {}\n",
    "    charlist = list(chars.values())\n",
    "    for char in set(charlist):\n",
    "        marg_prob[char] = (charlist.count(char)/len(charlist))\n",
    "    return marg_prob\n",
    "        \n",
    "def chance_homophily(chars):\n",
    "    # Enter code here!\n",
    "    marg_prob = marginal_prob(chars)\n",
    "    res = 0\n",
    "    for char in marg_prob:\n",
    "        res += marg_prob[char]**2\n",
    "    return res\n",
    "\n",
    "favorite_colors = {\n",
    "    \"ankit\":  \"red\",\n",
    "    \"xiaoyu\": \"blue\",\n",
    "    \"mary\":   \"blue\"\n",
    "}\n",
    "\n",
    "color_homophily = chance_homophily(favorite_colors)\n",
    "print(color_homophily)"
   ]
  },
  {
   "cell_type": "markdown",
   "metadata": {},
   "source": [
    "### Exercise 2\n",
    "\n",
    "In the remaining exercises, we will calculate actual homophily in these village and compare the obtained values to those obtained by chance. In this exercise, we subset the data into individual villages and store them.\n",
    "\n",
    "#### Instructions \n",
    "\n",
    "- `individual_characteristics.dta` contains several characteristics for each individual in the dataset such as age, religion, and caste. Use the `pandas` library to read in and store these characteristics as a dataframe called `df`.\n",
    "- Store separate datasets for individuals belonging to Villages 1 and 2 as `df1` and `df2`, respectively.\n",
    "- Note that some attributes may be missing for some individuals. In this case study, we will ignore rows of data where some column information is missing.\n",
    "- Use the head method to display the first few entries of `df1`."
   ]
  },
  {
   "cell_type": "code",
   "execution_count": 47,
   "metadata": {},
   "outputs": [],
   "source": [
    "import pandas as pd\n",
    "\n",
    "df  = pd.read_csv(\"https://courses.edx.org/asset-v1:HarvardX+PH526x+2T2019+type@asset+block@individual_characteristics.csv\", low_memory=False, index_col=0)\n"
   ]
  },
  {
   "cell_type": "code",
   "execution_count": 49,
   "metadata": {},
   "outputs": [
    {
     "output_type": "execute_result",
     "data": {
      "text/plain": "   village  adjmatrix_key     pid  ...  electioncard  rationcard  rationcard_colour\n0        1              5  100201  ...           Yes         Yes              GREEN\n1        1              6  100202  ...           Yes         Yes              GREEN\n2        1             23  100601  ...           Yes         Yes              GREEN\n3        1             24  100602  ...           Yes          No                NaN\n4        1             27  100701  ...           Yes         Yes              GREEN\n\n[5 rows x 48 columns]",
      "text/html": "<div>\n<style scoped>\n    .dataframe tbody tr th:only-of-type {\n        vertical-align: middle;\n    }\n\n    .dataframe tbody tr th {\n        vertical-align: top;\n    }\n\n    .dataframe thead th {\n        text-align: right;\n    }\n</style>\n<table border=\"1\" class=\"dataframe\">\n  <thead>\n    <tr style=\"text-align: right;\">\n      <th></th>\n      <th>village</th>\n      <th>adjmatrix_key</th>\n      <th>pid</th>\n      <th>hhid</th>\n      <th>resp_id</th>\n      <th>resp_gend</th>\n      <th>resp_status</th>\n      <th>age</th>\n      <th>religion</th>\n      <th>caste</th>\n      <th>subcaste</th>\n      <th>mothertongue</th>\n      <th>speakother</th>\n      <th>kannada</th>\n      <th>tamil</th>\n      <th>telugu</th>\n      <th>hindi</th>\n      <th>urdu</th>\n      <th>english</th>\n      <th>otherlang</th>\n      <th>educ</th>\n      <th>villagenative</th>\n      <th>native_name</th>\n      <th>native_type</th>\n      <th>native_taluk</th>\n      <th>native_district</th>\n      <th>res_time_yrs</th>\n      <th>res_time_mths</th>\n      <th>movereason</th>\n      <th>movecontact</th>\n      <th>movecontact_res</th>\n      <th>movecontact_hhid</th>\n      <th>movecontact_pid</th>\n      <th>movecontact_name</th>\n      <th>workflag</th>\n      <th>work_freq</th>\n      <th>work_freq_type</th>\n      <th>occupation</th>\n      <th>privategovt</th>\n      <th>work_outside</th>\n      <th>work_outside_freq</th>\n      <th>shgparticipate</th>\n      <th>shg_no</th>\n      <th>savings</th>\n      <th>savings_no</th>\n      <th>electioncard</th>\n      <th>rationcard</th>\n      <th>rationcard_colour</th>\n    </tr>\n  </thead>\n  <tbody>\n    <tr>\n      <th>0</th>\n      <td>1</td>\n      <td>5</td>\n      <td>100201</td>\n      <td>1002</td>\n      <td>1</td>\n      <td>1</td>\n      <td>Head of Household</td>\n      <td>38</td>\n      <td>HINDUISM</td>\n      <td>OBC</td>\n      <td>THIGALA</td>\n      <td>KANNADA</td>\n      <td>No</td>\n      <td>No</td>\n      <td>No</td>\n      <td>No</td>\n      <td>No</td>\n      <td>No</td>\n      <td>No</td>\n      <td>NaN</td>\n      <td>2ND STANDARD</td>\n      <td>Yes</td>\n      <td>NaN</td>\n      <td>NaN</td>\n      <td>NaN</td>\n      <td>NaN</td>\n      <td>NaN</td>\n      <td>NaN</td>\n      <td>NaN</td>\n      <td>NaN</td>\n      <td>NaN</td>\n      <td>NaN</td>\n      <td>NaN</td>\n      <td>NaN</td>\n      <td>Yes</td>\n      <td>6.0</td>\n      <td>DAYS PER WEEK</td>\n      <td>BUSINESS</td>\n      <td>PRIVATE BUSINESS</td>\n      <td>Yes</td>\n      <td>0.0</td>\n      <td>No</td>\n      <td>NaN</td>\n      <td>No</td>\n      <td>NaN</td>\n      <td>Yes</td>\n      <td>Yes</td>\n      <td>GREEN</td>\n    </tr>\n    <tr>\n      <th>1</th>\n      <td>1</td>\n      <td>6</td>\n      <td>100202</td>\n      <td>1002</td>\n      <td>2</td>\n      <td>2</td>\n      <td>Spouse of Head of Household</td>\n      <td>27</td>\n      <td>HINDUISM</td>\n      <td>OBC</td>\n      <td>THIGALA</td>\n      <td>KANNADA</td>\n      <td>No</td>\n      <td>No</td>\n      <td>No</td>\n      <td>No</td>\n      <td>No</td>\n      <td>No</td>\n      <td>No</td>\n      <td>NaN</td>\n      <td>2ND STANDARD</td>\n      <td>No</td>\n      <td>data has been removed for publication</td>\n      <td>VILLAGE</td>\n      <td>data has been removed for publication</td>\n      <td>BANGALORE</td>\n      <td>16.0</td>\n      <td>NaN</td>\n      <td>MARRIAGE</td>\n      <td>NaN</td>\n      <td>NaN</td>\n      <td>NaN</td>\n      <td>NaN</td>\n      <td>NaN</td>\n      <td>No</td>\n      <td>NaN</td>\n      <td>NaN</td>\n      <td>NaN</td>\n      <td>NaN</td>\n      <td>NaN</td>\n      <td>NaN</td>\n      <td>No</td>\n      <td>NaN</td>\n      <td>No</td>\n      <td>NaN</td>\n      <td>Yes</td>\n      <td>Yes</td>\n      <td>GREEN</td>\n    </tr>\n    <tr>\n      <th>2</th>\n      <td>1</td>\n      <td>23</td>\n      <td>100601</td>\n      <td>1006</td>\n      <td>1</td>\n      <td>1</td>\n      <td>Head of Household</td>\n      <td>29</td>\n      <td>HINDUISM</td>\n      <td>OBC</td>\n      <td>VOKKALIGA</td>\n      <td>KANNADA</td>\n      <td>No</td>\n      <td>No</td>\n      <td>No</td>\n      <td>No</td>\n      <td>No</td>\n      <td>No</td>\n      <td>No</td>\n      <td>NaN</td>\n      <td>7TH STANDARD</td>\n      <td>Yes</td>\n      <td>NaN</td>\n      <td>NaN</td>\n      <td>NaN</td>\n      <td>NaN</td>\n      <td>NaN</td>\n      <td>NaN</td>\n      <td>NaN</td>\n      <td>NaN</td>\n      <td>NaN</td>\n      <td>NaN</td>\n      <td>NaN</td>\n      <td>NaN</td>\n      <td>Yes</td>\n      <td>8.0</td>\n      <td>HOURS PER DAY</td>\n      <td>AGRICULTURE LABOUR</td>\n      <td>OTHER LAND</td>\n      <td>No</td>\n      <td>NaN</td>\n      <td>No</td>\n      <td>NaN</td>\n      <td>No</td>\n      <td>NaN</td>\n      <td>Yes</td>\n      <td>Yes</td>\n      <td>GREEN</td>\n    </tr>\n    <tr>\n      <th>3</th>\n      <td>1</td>\n      <td>24</td>\n      <td>100602</td>\n      <td>1006</td>\n      <td>2</td>\n      <td>2</td>\n      <td>Spouse of Head of Household</td>\n      <td>24</td>\n      <td>HINDUISM</td>\n      <td>OBC</td>\n      <td>VOKKALIGA</td>\n      <td>KANNADA</td>\n      <td>No</td>\n      <td>No</td>\n      <td>No</td>\n      <td>No</td>\n      <td>No</td>\n      <td>No</td>\n      <td>No</td>\n      <td>NaN</td>\n      <td>S.S.L.C.</td>\n      <td>No</td>\n      <td>data has been removed for publication</td>\n      <td>VILLAGE</td>\n      <td>data has been removed for publication</td>\n      <td>BANGALORE</td>\n      <td>6.0</td>\n      <td>NaN</td>\n      <td>MARRIAGE</td>\n      <td>NaN</td>\n      <td>NaN</td>\n      <td>NaN</td>\n      <td>NaN</td>\n      <td>NaN</td>\n      <td>Yes</td>\n      <td>8.0</td>\n      <td>HOURS PER DAY</td>\n      <td>TAILOR</td>\n      <td>PRIVATE BUSINESS</td>\n      <td>No</td>\n      <td>NaN</td>\n      <td>Yes</td>\n      <td>1.0</td>\n      <td>Yes</td>\n      <td>1.0</td>\n      <td>Yes</td>\n      <td>No</td>\n      <td>NaN</td>\n    </tr>\n    <tr>\n      <th>4</th>\n      <td>1</td>\n      <td>27</td>\n      <td>100701</td>\n      <td>1007</td>\n      <td>1</td>\n      <td>1</td>\n      <td>Head of Household</td>\n      <td>58</td>\n      <td>HINDUISM</td>\n      <td>OBC</td>\n      <td>VOKKALIGA</td>\n      <td>KANNADA</td>\n      <td>No</td>\n      <td>No</td>\n      <td>No</td>\n      <td>No</td>\n      <td>No</td>\n      <td>No</td>\n      <td>No</td>\n      <td>NaN</td>\n      <td>S.S.L.C.</td>\n      <td>Yes</td>\n      <td>NaN</td>\n      <td>NaN</td>\n      <td>NaN</td>\n      <td>NaN</td>\n      <td>NaN</td>\n      <td>NaN</td>\n      <td>NaN</td>\n      <td>NaN</td>\n      <td>NaN</td>\n      <td>NaN</td>\n      <td>NaN</td>\n      <td>NaN</td>\n      <td>Yes</td>\n      <td>6.0</td>\n      <td>DAYS PER WEEK</td>\n      <td>AGRICULTURE CAUSUAL LABOUR</td>\n      <td>OTHER LAND</td>\n      <td>No</td>\n      <td>NaN</td>\n      <td>No</td>\n      <td>NaN</td>\n      <td>No</td>\n      <td>NaN</td>\n      <td>Yes</td>\n      <td>Yes</td>\n      <td>GREEN</td>\n    </tr>\n  </tbody>\n</table>\n</div>"
     },
     "metadata": {},
     "execution_count": 49
    }
   ],
   "source": [
    "df1 = df[df.village==1] # Enter code here!\n",
    "df2 = df[df.village==2] # Enter code here!\n",
    "\n",
    "# Enter code here!\n",
    "df1.head()"
   ]
  },
  {
   "cell_type": "markdown",
   "metadata": {},
   "source": [
    "### Exercise 3 \n",
    "\n",
    "In this exercise, we define a few dictionaries that enable us to look up the sex, caste, and religion of members of each village by personal ID. For Villages 1 and 2, their personal IDs are stored as `pid`.\n",
    "\n",
    "#### Instructions \n",
    "- Define dictionaries with personal IDs as keys and a given covariate for that individual as values. Complete this for the sex, caste, and religion covariates, for Villages 1 and 2.\n",
    "- For Village 1, store these dictionaries into variables named `sex1`, `caste1`, and `religion1`.\n",
    "- For Village 2, store these dictionaries into variables named `sex2`, `caste2`, and `religion2`."
   ]
  },
  {
   "cell_type": "code",
   "execution_count": 52,
   "metadata": {},
   "outputs": [],
   "source": [
    "sex1      = dict(zip(df1.pid.to_list(),df1.resp_gend.to_list()))# Enter code here!\n",
    "caste1    = dict(zip(df1.pid.to_list(),df1.caste.to_list()))# Enter code here!\n",
    "religion1 = dict(zip(df1.pid.to_list(),df1.religion.to_list()))# Enter code here!\n",
    "\n",
    "# Continue for df2 as well.\n",
    "sex2      = dict(zip(df2.pid.to_list(),df2.resp_gend.to_list()))# Enter code here!\n",
    "caste2    = dict(zip(df2.pid.to_list(),df2.caste.to_list()))# Enter code here!\n",
    "religion2 = dict(zip(df2.pid.to_list(),df2.religion.to_list()))# Enter code here!"
   ]
  },
  {
   "cell_type": "markdown",
   "metadata": {},
   "source": [
    "### Exercise 4\n",
    "\n",
    "In this exercise, we will print the chance homophily of several characteristics of Villages 1 and 2. \n",
    "\n",
    "#### Instructions \n",
    "-  Use `chance_homophily` to compute the chance homophily for sex, caste, and religion In Villages 1 and 2. Is the chance homophily for any attribute very high for either village?"
   ]
  },
  {
   "cell_type": "code",
   "execution_count": 54,
   "metadata": {
    "tags": []
   },
   "outputs": [
    {
     "output_type": "stream",
     "name": "stdout",
     "text": "Village 1 sex: 0.5027299861680701\nVillage 1 caste: 0.6741488509791551\nVillage 1 religion: 0.9804896988521925\nVillage 2 sex: 0.5005945303210464\nVillage 2 caste: 0.425368244800893\nVillage 2 religion: 1.0\n"
    }
   ],
   "source": [
    "# Enter your code here.\n",
    "for v in [\"1\",\"2\"]:\n",
    "    for c in [\"sex\", \"caste\", \"religion\"]:\n",
    "        print(f\"Village {v} {c}: {chance_homophily(eval(c+v))}\")"
   ]
  },
  {
   "cell_type": "markdown",
   "metadata": {},
   "source": [
    "### Exercise 5\n",
    "\n",
    "In this exercise, we will create a function that computes the observed homophily given a village and characteristic.\n",
    "\n",
    "#### Instructions \n",
    "- Complete the function `homophily()`, which takes a network `G`, a dictionary of node characteristics `chars`, and node IDs `IDs`. For each node pair, determine whether a tie exists between them, as well as whether they share a characteristic. The total count of these is `num_ties` and `num_same_ties`, respectively, and their ratio is the homophily of chars in `G`. Complete the function by choosing where to increment `num_same_ties` and `num_ties`."
   ]
  },
  {
   "cell_type": "code",
   "execution_count": 55,
   "metadata": {},
   "outputs": [],
   "source": [
    "def homophily(G, chars, IDs):\n",
    "    \"\"\"\n",
    "    Given a network G, a dict of characteristics chars for node IDs,\n",
    "    and dict of node IDs for each node in the network,\n",
    "    find the homophily of the network.\n",
    "    \"\"\"\n",
    "    num_same_ties = 0\n",
    "    num_ties = 0\n",
    "    for n1, n2 in G.edges():\n",
    "        if IDs[n1] in chars and IDs[n2] in chars:\n",
    "            if G.has_edge(n1, n2):\n",
    "                # Should `num_ties` be incremented?  What about `num_same_ties`?\n",
    "                num_ties += 1\n",
    "                if chars[IDs[n1]] == chars[IDs[n2]]:\n",
    "                    # Should `num_ties` be incremented?  What about `num_same_ties`?    \n",
    "                    num_same_ties += 1\n",
    "    return (num_same_ties / num_ties) \n",
    "   "
   ]
  },
  {
   "cell_type": "code",
   "execution_count": null,
   "metadata": {},
   "outputs": [],
   "source": []
  },
  {
   "cell_type": "markdown",
   "metadata": {},
   "source": [
    "### Exercise 6\n",
    "\n",
    "In this exercise, we will obtain the personal IDs for Villages 1 and 2. These will be used in the next exercise to calculate homophily for these villages.\n",
    "\n",
    "#### Instructions \n",
    "- In this dataset, each individual has a personal ID, or PID, stored in `key_vilno_1.csv` and `key_vilno_2.csv` for villages 1 and 2, respectively. `data_filepath1` and `data_filepath2` contain the URLs to the datasets used in this exercise. Use `pd.read_csv` to read in and store `key_vilno_1.csv` and `key_vilno_2.csv` as `pid1` and `pid2` respectively. "
   ]
  },
  {
   "cell_type": "code",
   "execution_count": 56,
   "metadata": {},
   "outputs": [],
   "source": [
    "data_filepath1 = \"https://courses.edx.org/asset-v1:HarvardX+PH526x+2T2019+type@asset+block@key_vilno_1.csv\"\n",
    "data_filepath2 = \"https://courses.edx.org/asset-v1:HarvardX+PH526x+2T2019+type@asset+block@key_vilno_2.csv\"\n",
    "\n",
    "# Enter code here!\n",
    "pid1 = pd.read_csv(data_filepath1)\n",
    "pid2 = pd.read_csv(data_filepath2)"
   ]
  },
  {
   "cell_type": "markdown",
   "metadata": {},
   "source": [
    "### Exercise 7\n",
    "\n",
    "In this exercise, we will compute the homophily of several network characteristics for Villages 1 and 2 and compare them to homophily due to chance alone. The networks for these villages have been stored as networkx graph objects `G1` and `G2`.\n",
    "\n",
    "#### Instructions \n",
    "\n",
    "- Use your `homophily()` function to compute the observed homophily for sex, caste, and religion in Villages 1 and 2. Print all six values.\n",
    "- Use the `chance_homophily()` to compare these values to chance homophily. Are these values higher or lower than that expected by chance?"
   ]
  },
  {
   "cell_type": "code",
   "execution_count": 60,
   "metadata": {},
   "outputs": [],
   "source": [
    "import networkx as nx\n",
    "A1 = np.array(pd.read_csv(\"https://courses.edx.org/asset-v1:HarvardX+PH526x+2T2019+type@asset+block@adj_allVillageRelationships_vilno1.csv\", index_col=0))\n",
    "A2 = np.array(pd.read_csv(\"https://courses.edx.org/asset-v1:HarvardX+PH526x+2T2019+type@asset+block@adj_allVillageRelationships_vilno2.csv\", index_col=0))\n",
    "G1 = nx.to_networkx_graph(A1)\n",
    "G2 = nx.to_networkx_graph(A2)\n",
    "\n",
    "pid1 = pd.read_csv(data_filepath1, dtype=int)['0'].to_dict()\n",
    "pid2 = pd.read_csv(data_filepath2, dtype=int)['0'].to_dict()\n",
    "\n",
    "# Enter your code here!"
   ]
  },
  {
   "cell_type": "code",
   "execution_count": 72,
   "metadata": {
    "tags": []
   },
   "outputs": [
    {
     "output_type": "stream",
     "name": "stdout",
     "text": "Actual homophily - Village 1 sex: 0.5908629441624366\nChance homophily - Village 1 sex: 0.5027299861680701\n\nActual homophily - Village 2 sex: 0.5658073270013568\nChance homophily - Village 2 sex: 0.5005945303210464\n\nActual homophily - Village 1 caste: 0.7959390862944162\nChance homophily - Village 1 caste: 0.6741488509791551\n\nActual homophily - Village 2 caste: 0.8276797829036635\nChance homophily - Village 2 caste: 0.425368244800893\n\nActual homophily - Village 1 religion: 0.9908629441624366\nChance homophily - Village 1 religion: 0.9804896988521925\n\nActual homophily - Village 2 religion: 1.0\nChance homophily - Village 2 religion: 1.0\n\n"
    }
   ],
   "source": [
    "# Enter your code here.\n",
    "for c in [\"sex\", \"caste\", \"religion\"]:\n",
    "    for v in [\"1\",\"2\"]:\n",
    "        print(f'Actual homophily - Village {v} {c}: {homophily(eval(f\"G{v}\"),eval(f\"{c}{v}\"),eval(f\"pid{v}\"))}')\n",
    "        print(f\"Chance homophily - Village {v} {c}: {chance_homophily(eval(c+v))}\")\n",
    "        print()"
   ]
  }
 ],
 "metadata": {
  "kernelspec": {
   "display_name": "Python 3",
   "language": "python",
   "name": "python3"
  },
  "language_info": {
   "codemirror_mode": {
    "name": "ipython",
    "version": 3
   },
   "file_extension": ".py",
   "mimetype": "text/x-python",
   "name": "python",
   "nbconvert_exporter": "python",
   "pygments_lexer": "ipython3",
   "version": "3.8.2-final"
  },
  "toc": {
   "base_numbering": 1,
   "nav_menu": {},
   "number_sections": false,
   "sideBar": true,
   "skip_h1_title": false,
   "title_cell": "Table of Contents",
   "title_sidebar": "Contents",
   "toc_cell": false,
   "toc_position": {},
   "toc_section_display": true,
   "toc_window_display": true
  }
 },
 "nbformat": 4,
 "nbformat_minor": 2
}